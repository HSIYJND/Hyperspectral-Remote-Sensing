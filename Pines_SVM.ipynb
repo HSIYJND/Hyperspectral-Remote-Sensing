{
 "cells": [
  {
   "cell_type": "code",
   "execution_count": 1,
   "metadata": {},
   "outputs": [],
   "source": [
    "#!ipython nbconvert --to=python Pines_SVM.ipynb\n",
    "\n",
    "import numpy as np\n",
    "from sklearn import svm\n",
    "from sklearn.svm import SVC\n",
    "from sklearn.metrics import accuracy_score\n",
    "import pickle\n",
    "from sklearn.model_selection import train_test_split\n",
    "import numpy as np\n",
    "from sklearn.model_selection import GridSearchCV\n",
    "\n",
    "'''\n",
    "#How to image was vectorised\n",
    "I_gt=np.ravel(IPgt)\n",
    "\n",
    "\n",
    "temp1=indianpinearray.transpose(2,0,1).reshape(200,-1)\n",
    "I_vect=temp1.T\n",
    "'''\n",
    "\n",
    "I_gt = np.load('/home/abhi/Desktop/Hyperspectral_dataset/vectorized_data/I_gt.npy')\n",
    "I_vect = np.load('/home/abhi/Desktop/Hyperspectral_dataset/vectorized_data/I_vect.npy')\n",
    "\n",
    "\n",
    "#To verify the number of samples present in dataset and the unclassified points\n",
    "pines_sampleno=np.sort(I_gt)\n",
    "\n",
    "\n",
    "#To get all the indices where a specific class is present\n",
    "pines_indices=np.argsort(I_gt,kind='quicksort')\n",
    "\n",
    "\n",
    "#Array slicing to get each class of Indian Pines\n",
    "igt=pines_sampleno[10776:]\n",
    "I_new=pines_indices[10776:]\n",
    "\n",
    "\n",
    "a=I_new[0:46]\n",
    "Class_1= I_vect[a]\n",
    "\n",
    "b=I_new[46:1474]\n",
    "Class_2= I_vect[b]\n",
    "\n",
    "c=I_new[1474:2304]\n",
    "Class_3= I_vect[c]\n",
    "\n",
    "d=I_new[2304:2541]\n",
    "Class_4= I_vect[d]\n",
    "\n",
    "e=I_new[2541:3024]\n",
    "Class_5= I_vect[e]\n",
    "\n",
    "f=I_new[3024:3754]\n",
    "Class_6= I_vect[f]\n",
    "\n",
    "g=I_new[3754:3782]\n",
    "Class_7= I_vect[g]\n",
    "\n",
    "h=I_new[3782:4260]\n",
    "Class_8= I_vect[h]\n",
    "\n",
    "i=I_new[4260:4280]\n",
    "Class_9= I_vect[i]\n",
    "\n",
    "j=I_new[4280:5252]\n",
    "Class_10= I_vect[j]\n",
    "\n",
    "k=I_new[5252:7707]\n",
    "Class_11= I_vect[k]\n",
    "\n",
    "l=I_new[7707:8300]\n",
    "Class_12= I_vect[l]\n",
    "\n",
    "m=I_new[8300:8505]\n",
    "Class_13= I_vect[m]\n",
    "\n",
    "n=I_new[8505:9770]\n",
    "Class_14= I_vect[n]\n",
    "\n",
    "o=I_new[9770:10156]\n",
    "Class_15= I_vect[o]\n",
    "\n",
    "p=I_new[10156:10249]\n",
    "Class_16= I_vect[p]\n",
    "\n",
    "#To split the ground truth according to the classes\n",
    "gt_1=I_gt[a]\n",
    "gt_2=I_gt[b]\n",
    "gt_3=I_gt[c]\n",
    "gt_4=I_gt[d]\n",
    "gt_5=I_gt[e]\n",
    "gt_6=I_gt[f]\n",
    "gt_7=I_gt[g]\n",
    "gt_8=I_gt[h]\n",
    "gt_9=I_gt[i]\n",
    "gt_10=I_gt[j]\n",
    "gt_11=I_gt[k]\n",
    "gt_12=I_gt[l]\n",
    "gt_13=I_gt[m]\n",
    "gt_14=I_gt[n]\n",
    "gt_15=I_gt[o]\n",
    "gt_16=I_gt[p]\n",
    "\n",
    "\n",
    "#Splitting training and testing data for each class for Indian Pines dataset\n",
    "\n",
    "ip_1, ip_1_test, y_1, y_1_test = train_test_split(Class_1 ,gt_1, test_size=0.5, shuffle=False)\n",
    "\n",
    "ip_2, ip_2_test, y_2, y_2_test = train_test_split(Class_2 ,gt_2, test_size=0.5, shuffle=False)\n",
    "\n",
    "\n",
    "ip_3, ip_3_test, y_3, y_3_test = train_test_split(Class_3 ,gt_3, test_size=0.5, shuffle=False)\n",
    "\n",
    "ip_4, ip_4_test, y_4, y_4_test = train_test_split(Class_4 ,gt_4, test_size=0.5, shuffle=False)\n",
    "\n",
    "ip_5, ip_5_test, y_5, y_5_test = train_test_split(Class_5 ,gt_5, test_size=0.5, shuffle=False)\n",
    "\n",
    "ip_6, ip_6_test, y_6, y_6_test = train_test_split(Class_6 ,gt_6, test_size=0.5, shuffle=False)\n",
    "\n",
    "ip_7, ip_7_test, y_7, y_7_test = train_test_split(Class_7 ,gt_7, test_size=0.5, shuffle=False)\n",
    "\n",
    "ip_8, ip_8_test, y_8, y_8_test = train_test_split(Class_8 ,gt_8, test_size=0.5, shuffle=False)\n",
    "\n",
    "ip_9, ip_9_test, y_9, y_9_test = train_test_split(Class_9 ,gt_9, test_size=0.5, shuffle=False)\n",
    "\n",
    "ip_10, ip_10_test, y_10, y_10_test = train_test_split(Class_10 ,gt_10, test_size=0.5, shuffle=False)\n",
    "\n",
    "ip_11, ip_11_test, y_11, y_11_test = train_test_split(Class_11 ,gt_11, test_size=0.5, shuffle=False)\n",
    "\n",
    "ip_12, ip_12_test, y_12, y_12_test = train_test_split(Class_12 ,gt_12, test_size=0.5, shuffle=False)\n",
    "\n",
    "ip_13, ip_13_test, y_13, y_13_test = train_test_split(Class_13 ,gt_13, test_size=0.5, shuffle=False)\n",
    "\n",
    "ip_14, ip_14_test, y_14, y_14_test = train_test_split(Class_14 ,gt_14, test_size=0.5, shuffle=False)\n",
    "\n",
    "ip_15, ip_15_test, y_15, y_15_test = train_test_split(Class_15 ,gt_15, test_size=0.5, shuffle=False)\n",
    "\n",
    "ip_16, ip_16_test, y_16, y_16_test = train_test_split(Class_16 ,gt_16, test_size=0.5, shuffle=False)\n",
    "\n",
    "ix_train=np.concatenate((ip_1,ip_2,ip_3,ip_4,ip_5,ip_6,ip_7,ip_8,ip_9,ip_10,ip_11,ip_12,ip_13,ip_14,ip_15,ip_16))\n",
    "iy_train=np.concatenate((y_1,y_2,y_3,y_4,y_5,y_6,y_7,y_8,y_9,y_10,y_11,y_12,y_13,y_14,y_15,y_16))\n",
    "ix_test=np.concatenate((ip_1_test,ip_2_test,ip_3_test,ip_4_test,ip_5_test,ip_6_test,ip_7_test,ip_8_test,ip_9_test,ip_10_test,ip_11_test,ip_12_test,ip_13_test,ip_14_test,ip_15_test,ip_16_test))\n",
    "iy_test=np.concatenate((y_1_test,y_2_test,y_3_test,y_4_test,y_5_test,y_6_test,y_7_test,y_8_test,y_9_test,y_10_test,y_11_test,y_12_test,y_13_test,y_14_test,y_15_test,y_16_test))"
   ]
  },
  {
   "cell_type": "code",
   "execution_count": 3,
   "metadata": {},
   "outputs": [
    {
     "name": "stdout",
     "output_type": "stream",
     "text": [
      "{'C': 0.01, 'gamma': 0.01}\n"
     ]
    }
   ],
   "source": [
    "nfolds =5\n",
    "#def svc_param_selection(ix_train,iy_train, nfolds):\n",
    "Cs = [0.01, 0.1, 1]\n",
    "gammas = [0.01, 0.1, 1]\n",
    "param_grid = {'C': Cs, 'gamma' : gammas}\n",
    "grid_search = GridSearchCV(svm.SVC(kernel='linear'), param_grid, cv=nfolds, n_jobs = 3)\n",
    "grid_search.fit(ix_train,iy_train)\n",
    "grid_search.best_params_\n",
    "\n",
    "\n",
    "\n",
    "\n",
    "print(grid_search.best_params_)"
   ]
  },
  {
   "cell_type": "markdown",
   "metadata": {},
   "source": [
    "## Using default parameters and realising that accuracy is not optimal\n",
    "### Linear Kernel SVM"
   ]
  },
  {
   "cell_type": "code",
   "execution_count": 4,
   "metadata": {},
   "outputs": [],
   "source": [
    "linear_I = svm.SVC(C=0.01 , kernel='linear',cache_size=5000,gamma=0.01)\n",
    "linear_I.fit(ix_train,iy_train) \n",
    "linear_I.score(ix_train,iy_train) \n",
    "ipred=linear_I.predict(ix_test) "
   ]
  },
  {
   "cell_type": "code",
   "execution_count": 6,
   "metadata": {},
   "outputs": [
    {
     "data": {
      "text/plain": [
       "0.7597503900156006"
      ]
     },
     "execution_count": 6,
     "metadata": {},
     "output_type": "execute_result"
    }
   ],
   "source": [
    "accuracy_score(iy_test, ipred)"
   ]
  },
  {
   "cell_type": "markdown",
   "metadata": {},
   "source": [
    "### Polynomial Kernel SVM"
   ]
  },
  {
   "cell_type": "code",
   "execution_count": 7,
   "metadata": {},
   "outputs": [
    {
     "name": "stdout",
     "output_type": "stream",
     "text": [
      "{'C': 0.01, 'gamma': 0.01}\n"
     ]
    }
   ],
   "source": [
    "nfolds =5\n",
    "#def svc_param_selection(ix_train,iy_train, nfolds):\n",
    "Cs = [0.01, 0.1, 1]\n",
    "gammas = [0.01, 0.1, 1]\n",
    "param_grid = {'C': Cs, 'gamma' : gammas}\n",
    "grid_search = GridSearchCV(svm.SVC(kernel='poly'), param_grid, cv=nfolds, n_jobs = 3)\n",
    "grid_search.fit(ix_train,iy_train)\n",
    "grid_search.best_params_\n",
    "\n",
    "\n",
    "\n",
    "\n",
    "print(grid_search.best_params_)"
   ]
  },
  {
   "cell_type": "code",
   "execution_count": 8,
   "metadata": {},
   "outputs": [
    {
     "data": {
      "text/plain": [
       "0.8139625585023401"
      ]
     },
     "execution_count": 8,
     "metadata": {},
     "output_type": "execute_result"
    }
   ],
   "source": [
    "poly_p = svm.SVC(C=0.01 ,kernel='poly' ,cache_size=900, gamma=0.01)\n",
    "poly_p.fit(ix_train,iy_train) \n",
    "poly_p.score(ix_train,iy_train) \n",
    "ipred1=poly_p.predict(ix_test) \n",
    "\n",
    "\n",
    "accuracy_score(iy_test, ipred1)\n"
   ]
  },
  {
   "cell_type": "code",
   "execution_count": 5,
   "metadata": {},
   "outputs": [],
   "source": [
    "from sklearn.model_selection import cross_val_score\n",
    "\n",
    "\n",
    "def sample_loss(params):\n",
    "    \n",
    "  C = params[0]\n",
    "  gamma = params[1]\n",
    "\n",
    "  # Sample C and gamma on the log-uniform scale\n",
    "  model = SVC(C=10 ** C, gamma=10 ** gamma, random_state=12345)\n",
    "\n",
    "  # Sample parameters on a log scale\n",
    "  return cross_val_score(model=model,\n",
    "                         X=data,\n",
    "                         y=target,\n",
    "                         scoring='roc_auc',\n",
    "                         cv=3).mean()"
   ]
  },
  {
   "cell_type": "code",
   "execution_count": 11,
   "metadata": {},
   "outputs": [],
   "source": [
    "save_classifier = open (\"IndianPines_LinearSVM.pickle\",\"wb\")\n",
    "pickle.dump(linear_I,save_classifier)\n",
    "save_classifier.close()\n",
    "\n",
    "save_classifier = open (\"IndianPines_PolySVM.pickle\",\"wb\")\n",
    "pickle.dump(poly_p,save_classifier)\n",
    "save_classifier.close()"
   ]
  },
  {
   "cell_type": "markdown",
   "metadata": {},
   "source": [
    "### Using Grid Search , varying C from 1 to 10 , and kernel linear and RBF"
   ]
  },
  {
   "cell_type": "code",
   "execution_count": 6,
   "metadata": {},
   "outputs": [],
   "source": [
    "from sklearn.model_selection import GridSearchCV\n",
    "parameters = {'kernel':('linear', 'rbf'), 'C':[1, 10]}\n",
    "svc = svm.SVC()\n",
    "clf = GridSearchCV(svc, parameters)\n",
    "print(clf)"
   ]
  },
  {
   "cell_type": "code",
   "execution_count": 16,
   "metadata": {},
   "outputs": [
    {
     "data": {
      "text/plain": [
       "SVC(C=1, cache_size=9000, class_weight=None, coef0=0.0,\n",
       "  decision_function_shape='ovr', degree=3, gamma=1, kernel='poly',\n",
       "  max_iter=-1, probability=False, random_state=None, shrinking=True,\n",
       "  tol=0.001, verbose=False)"
      ]
     },
     "execution_count": 16,
     "metadata": {},
     "output_type": "execute_result"
    }
   ],
   "source": []
  },
  {
   "cell_type": "code",
   "execution_count": 4,
   "metadata": {},
   "outputs": [],
   "source": [
    "save_classifier = open (\"poly_k.pickle\",\"wb\")\n",
    "pickle.dump(linear_I,save_classifier)\n",
    "save_classifier.close()\n",
    "\n"
   ]
  },
  {
   "cell_type": "code",
   "execution_count": 10,
   "metadata": {},
   "outputs": [
    {
     "ename": "AttributeError",
     "evalue": "'int' object has no attribute 'shape'",
     "output_type": "error",
     "traceback": [
      "\u001b[0;31m---------------------------------------------------------------------------\u001b[0m",
      "\u001b[0;31mAttributeError\u001b[0m                            Traceback (most recent call last)",
      "\u001b[0;32m<ipython-input-10-7d72e792e6ea>\u001b[0m in \u001b[0;36m<module>\u001b[0;34m()\u001b[0m\n\u001b[1;32m      1\u001b[0m \u001b[0;32mimport\u001b[0m \u001b[0mspectral\u001b[0m\u001b[0;34m\u001b[0m\u001b[0m\n\u001b[0;32m----> 2\u001b[0;31m \u001b[0mground_truth\u001b[0m \u001b[0;34m=\u001b[0m \u001b[0mspectral\u001b[0m\u001b[0;34m.\u001b[0m\u001b[0mimshow\u001b[0m\u001b[0;34m(\u001b[0m\u001b[0mclasses\u001b[0m\u001b[0;34m=\u001b[0m\u001b[0;36m16\u001b[0m\u001b[0;34m,\u001b[0m \u001b[0mfigsize\u001b[0m\u001b[0;34m=\u001b[0m\u001b[0;34m(\u001b[0m\u001b[0;36m10\u001b[0m\u001b[0;34m,\u001b[0m \u001b[0;36m10\u001b[0m\u001b[0;34m)\u001b[0m\u001b[0;34m)\u001b[0m\u001b[0;34m\u001b[0m\u001b[0m\n\u001b[0m",
      "\u001b[0;32m~/anaconda3/lib/python3.6/site-packages/spectral/graphics/spypylab.py\u001b[0m in \u001b[0;36mimshow\u001b[0;34m(data, bands, classes, source, colors, figsize, fignum, title, **kwargs)\u001b[0m\n\u001b[1;32m   1250\u001b[0m         \u001b[0mview\u001b[0m\u001b[0;34m.\u001b[0m\u001b[0mset_data\u001b[0m\u001b[0;34m(\u001b[0m\u001b[0mdata\u001b[0m\u001b[0;34m,\u001b[0m \u001b[0mbands\u001b[0m\u001b[0;34m,\u001b[0m \u001b[0;34m**\u001b[0m\u001b[0mkwargs\u001b[0m\u001b[0;34m)\u001b[0m\u001b[0;34m\u001b[0m\u001b[0m\n\u001b[1;32m   1251\u001b[0m     \u001b[0;32mif\u001b[0m \u001b[0mclasses\u001b[0m \u001b[0;32mis\u001b[0m \u001b[0;32mnot\u001b[0m \u001b[0;32mNone\u001b[0m\u001b[0;34m:\u001b[0m\u001b[0;34m\u001b[0m\u001b[0m\n\u001b[0;32m-> 1252\u001b[0;31m         \u001b[0mview\u001b[0m\u001b[0;34m.\u001b[0m\u001b[0mset_classes\u001b[0m\u001b[0;34m(\u001b[0m\u001b[0mclasses\u001b[0m\u001b[0;34m,\u001b[0m \u001b[0mcolors\u001b[0m\u001b[0;34m,\u001b[0m \u001b[0;34m**\u001b[0m\u001b[0mkwargs\u001b[0m\u001b[0;34m)\u001b[0m\u001b[0;34m\u001b[0m\u001b[0m\n\u001b[0m\u001b[1;32m   1253\u001b[0m     \u001b[0;32mif\u001b[0m \u001b[0msource\u001b[0m \u001b[0;32mis\u001b[0m \u001b[0;32mnot\u001b[0m \u001b[0;32mNone\u001b[0m\u001b[0;34m:\u001b[0m\u001b[0;34m\u001b[0m\u001b[0m\n\u001b[1;32m   1254\u001b[0m         \u001b[0mview\u001b[0m\u001b[0;34m.\u001b[0m\u001b[0mset_source\u001b[0m\u001b[0;34m(\u001b[0m\u001b[0msource\u001b[0m\u001b[0;34m)\u001b[0m\u001b[0;34m\u001b[0m\u001b[0m\n",
      "\u001b[0;32m~/anaconda3/lib/python3.6/site-packages/spectral/graphics/spypylab.py\u001b[0m in \u001b[0;36mset_classes\u001b[0;34m(self, classes, colors, **kwargs)\u001b[0m\n\u001b[1;32m    688\u001b[0m             \u001b[0;32mreturn\u001b[0m\u001b[0;34m\u001b[0m\u001b[0m\n\u001b[1;32m    689\u001b[0m         \u001b[0;32mif\u001b[0m \u001b[0mself\u001b[0m\u001b[0;34m.\u001b[0m\u001b[0m_image_shape\u001b[0m \u001b[0;32mis\u001b[0m \u001b[0;32mNone\u001b[0m\u001b[0;34m:\u001b[0m\u001b[0;34m\u001b[0m\u001b[0m\n\u001b[0;32m--> 690\u001b[0;31m             \u001b[0mself\u001b[0m\u001b[0;34m.\u001b[0m\u001b[0m_image_shape\u001b[0m \u001b[0;34m=\u001b[0m \u001b[0mclasses\u001b[0m\u001b[0;34m.\u001b[0m\u001b[0mshape\u001b[0m\u001b[0;34m[\u001b[0m\u001b[0;34m:\u001b[0m\u001b[0;36m2\u001b[0m\u001b[0;34m]\u001b[0m\u001b[0;34m\u001b[0m\u001b[0m\n\u001b[0m\u001b[1;32m    691\u001b[0m         \u001b[0;32melif\u001b[0m \u001b[0mclasses\u001b[0m\u001b[0;34m.\u001b[0m\u001b[0mshape\u001b[0m\u001b[0;34m[\u001b[0m\u001b[0;34m:\u001b[0m\u001b[0;36m2\u001b[0m\u001b[0;34m]\u001b[0m \u001b[0;34m!=\u001b[0m \u001b[0mself\u001b[0m\u001b[0;34m.\u001b[0m\u001b[0m_image_shape\u001b[0m\u001b[0;34m:\u001b[0m\u001b[0;34m\u001b[0m\u001b[0m\n\u001b[1;32m    692\u001b[0m             raise ValueError('Class data shape is inconsistent with ' \\\n",
      "\u001b[0;31mAttributeError\u001b[0m: 'int' object has no attribute 'shape'"
     ]
    }
   ],
   "source": [
    "import spectral\n",
    "ground_truth = spectral.imshow(classes=16, figsize=(10, 10))"
   ]
  }
 ],
 "metadata": {
  "kernelspec": {
   "display_name": "Python 3",
   "language": "python",
   "name": "python3"
  },
  "language_info": {
   "codemirror_mode": {
    "name": "ipython",
    "version": 3
   },
   "file_extension": ".py",
   "mimetype": "text/x-python",
   "name": "python",
   "nbconvert_exporter": "python",
   "pygments_lexer": "ipython3",
   "version": "3.6.5"
  }
 },
 "nbformat": 4,
 "nbformat_minor": 2
}
